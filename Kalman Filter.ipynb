{
 "cells": [
  {
   "cell_type": "markdown",
   "metadata": {},
   "source": [
    "# カルマンフィルタ"
   ]
  },
  {
   "cell_type": "markdown",
   "metadata": {},
   "source": [
    "ここでは，Julia言語によるカルマンフィルタのアルゴリズムを紹介する．"
   ]
  },
  {
   "cell_type": "code",
   "execution_count": 1,
   "metadata": {},
   "outputs": [],
   "source": [
    "using Plots"
   ]
  },
  {
   "cell_type": "code",
   "execution_count": 2,
   "metadata": {},
   "outputs": [
    {
     "data": {
      "text/plain": [
       "200"
      ]
     },
     "execution_count": 2,
     "metadata": {},
     "output_type": "execute_result"
    }
   ],
   "source": [
    "F = 1.005\n",
    "H = 1\n",
    "Q = 0.0025\n",
    "R = 1\n",
    "T = 200"
   ]
  },
  {
   "cell_type": "code",
   "execution_count": 3,
   "metadata": {},
   "outputs": [
    {
     "data": {
      "text/plain": [
       "200×1 Array{Float64,2}:\n",
       "  0.492792018875591  \n",
       "  0.3519975755850958 \n",
       "  0.1727054262938356 \n",
       "  0.6768044615900056 \n",
       " -0.8504257260516407 \n",
       "  0.49793563385548817\n",
       "  0.6944706402590807 \n",
       "  0.280814337231905  \n",
       " -0.22507849407031796\n",
       " -0.19603938189845013\n",
       "  1.706637868911429  \n",
       "  0.7982597907794975 \n",
       " -0.20178998973163223\n",
       "  ⋮                  \n",
       "  0.23334343852235157\n",
       " -0.38872490509716723\n",
       "  1.283692791465333  \n",
       "  0.14767111008497075\n",
       "  0.43621368272120103\n",
       " -0.5842405266922448 \n",
       " -1.4464129585266003 \n",
       " -0.8046622984562859 \n",
       " -0.1006308538656158 \n",
       "  0.7545063690870083 \n",
       "  0.17759837034264223\n",
       "  0.16524118831113616"
      ]
     },
     "execution_count": 3,
     "metadata": {},
     "output_type": "execute_result"
    }
   ],
   "source": [
    "v = √Q * randn(T,1)\n",
    "w = √R * randn(T,1)"
   ]
  },
  {
   "cell_type": "code",
   "execution_count": 4,
   "metadata": {},
   "outputs": [],
   "source": [
    "x = √5*randn()\n",
    "sqx = [x]\n",
    "for t in 1:T\n",
    "    x = F*x + v[t]\n",
    "    push!(sqx,x)\n",
    "end"
   ]
  },
  {
   "cell_type": "code",
   "execution_count": 5,
   "metadata": {},
   "outputs": [],
   "source": [
    "y = sqx[2] + w[1]\n",
    "sqy = [y]\n",
    "for t in 2:T\n",
    "y = sqx[t+1] + w[t]\n",
    "    push!(sqy, y)\n",
    "end"
   ]
  },
  {
   "cell_type": "code",
   "execution_count": 6,
   "metadata": {},
   "outputs": [
    {
     "data": {
      "image/svg+xml": [
       "<?xml version=\"1.0\" encoding=\"utf-8\"?>\n",
       "<svg xmlns=\"http://www.w3.org/2000/svg\" xmlns:xlink=\"http://www.w3.org/1999/xlink\" width=\"600\" height=\"400\" viewBox=\"0 0 2400 1600\">\n",
       "<defs>\n",
       "  <clipPath id=\"clip6600\">\n",
       "    <rect x=\"0\" y=\"0\" width=\"2400\" height=\"1600\"/>\n",
       "  </clipPath>\n",
       "</defs>\n",
       "<path clip-path=\"url(#clip6600)\" d=\"\n",
       "M0 1600 L2400 1600 L2400 0 L0 0  Z\n",
       "  \" fill=\"#ffffff\" fill-rule=\"evenodd\" fill-opacity=\"1\"/>\n",
       "<defs>\n",
       "  <clipPath id=\"clip6601\">\n",
       "    <rect x=\"480\" y=\"0\" width=\"1681\" height=\"1600\"/>\n",
       "  </clipPath>\n",
       "</defs>\n",
       "<path clip-path=\"url(#clip6600)\" d=\"\n",
       "M175.611 1425.62 L2352.76 1425.62 L2352.76 47.2441 L175.611 47.2441  Z\n",
       "  \" fill=\"#ffffff\" fill-rule=\"evenodd\" fill-opacity=\"1\"/>\n",
       "<defs>\n",
       "  <clipPath id=\"clip6602\">\n",
       "    <rect x=\"175\" y=\"47\" width=\"2178\" height=\"1379\"/>\n",
       "  </clipPath>\n",
       "</defs>\n",
       "<polyline clip-path=\"url(#clip6602)\" style=\"stroke:#000000; stroke-width:2; stroke-opacity:0.1; fill:none\" points=\"\n",
       "  226.907,1425.62 226.907,47.2441 \n",
       "  \"/>\n",
       "<polyline clip-path=\"url(#clip6602)\" style=\"stroke:#000000; stroke-width:2; stroke-opacity:0.1; fill:none\" points=\"\n",
       "  742.965,1425.62 742.965,47.2441 \n",
       "  \"/>\n",
       "<polyline clip-path=\"url(#clip6602)\" style=\"stroke:#000000; stroke-width:2; stroke-opacity:0.1; fill:none\" points=\"\n",
       "  1259.02,1425.62 1259.02,47.2441 \n",
       "  \"/>\n",
       "<polyline clip-path=\"url(#clip6602)\" style=\"stroke:#000000; stroke-width:2; stroke-opacity:0.1; fill:none\" points=\"\n",
       "  1775.08,1425.62 1775.08,47.2441 \n",
       "  \"/>\n",
       "<polyline clip-path=\"url(#clip6602)\" style=\"stroke:#000000; stroke-width:2; stroke-opacity:0.1; fill:none\" points=\"\n",
       "  2291.14,1425.62 2291.14,47.2441 \n",
       "  \"/>\n",
       "<polyline clip-path=\"url(#clip6602)\" style=\"stroke:#000000; stroke-width:2; stroke-opacity:0.1; fill:none\" points=\"\n",
       "  175.611,1404.59 2352.76,1404.59 \n",
       "  \"/>\n",
       "<polyline clip-path=\"url(#clip6602)\" style=\"stroke:#000000; stroke-width:2; stroke-opacity:0.1; fill:none\" points=\"\n",
       "  175.611,1187.01 2352.76,1187.01 \n",
       "  \"/>\n",
       "<polyline clip-path=\"url(#clip6602)\" style=\"stroke:#000000; stroke-width:2; stroke-opacity:0.1; fill:none\" points=\"\n",
       "  175.611,969.428 2352.76,969.428 \n",
       "  \"/>\n",
       "<polyline clip-path=\"url(#clip6602)\" style=\"stroke:#000000; stroke-width:2; stroke-opacity:0.1; fill:none\" points=\"\n",
       "  175.611,751.845 2352.76,751.845 \n",
       "  \"/>\n",
       "<polyline clip-path=\"url(#clip6602)\" style=\"stroke:#000000; stroke-width:2; stroke-opacity:0.1; fill:none\" points=\"\n",
       "  175.611,534.263 2352.76,534.263 \n",
       "  \"/>\n",
       "<polyline clip-path=\"url(#clip6602)\" style=\"stroke:#000000; stroke-width:2; stroke-opacity:0.1; fill:none\" points=\"\n",
       "  175.611,316.68 2352.76,316.68 \n",
       "  \"/>\n",
       "<polyline clip-path=\"url(#clip6602)\" style=\"stroke:#000000; stroke-width:2; stroke-opacity:0.1; fill:none\" points=\"\n",
       "  175.611,99.0977 2352.76,99.0977 \n",
       "  \"/>\n",
       "<polyline clip-path=\"url(#clip6600)\" style=\"stroke:#000000; stroke-width:4; stroke-opacity:1; fill:none\" points=\"\n",
       "  175.611,1425.62 2352.76,1425.62 \n",
       "  \"/>\n",
       "<polyline clip-path=\"url(#clip6600)\" style=\"stroke:#000000; stroke-width:4; stroke-opacity:1; fill:none\" points=\"\n",
       "  175.611,1425.62 175.611,47.2441 \n",
       "  \"/>\n",
       "<polyline clip-path=\"url(#clip6600)\" style=\"stroke:#000000; stroke-width:4; stroke-opacity:1; fill:none\" points=\"\n",
       "  226.907,1425.62 226.907,1409.08 \n",
       "  \"/>\n",
       "<polyline clip-path=\"url(#clip6600)\" style=\"stroke:#000000; stroke-width:4; stroke-opacity:1; fill:none\" points=\"\n",
       "  742.965,1425.62 742.965,1409.08 \n",
       "  \"/>\n",
       "<polyline clip-path=\"url(#clip6600)\" style=\"stroke:#000000; stroke-width:4; stroke-opacity:1; fill:none\" points=\"\n",
       "  1259.02,1425.62 1259.02,1409.08 \n",
       "  \"/>\n",
       "<polyline clip-path=\"url(#clip6600)\" style=\"stroke:#000000; stroke-width:4; stroke-opacity:1; fill:none\" points=\"\n",
       "  1775.08,1425.62 1775.08,1409.08 \n",
       "  \"/>\n",
       "<polyline clip-path=\"url(#clip6600)\" style=\"stroke:#000000; stroke-width:4; stroke-opacity:1; fill:none\" points=\"\n",
       "  2291.14,1425.62 2291.14,1409.08 \n",
       "  \"/>\n",
       "<polyline clip-path=\"url(#clip6600)\" style=\"stroke:#000000; stroke-width:4; stroke-opacity:1; fill:none\" points=\"\n",
       "  175.611,1404.59 201.736,1404.59 \n",
       "  \"/>\n",
       "<polyline clip-path=\"url(#clip6600)\" style=\"stroke:#000000; stroke-width:4; stroke-opacity:1; fill:none\" points=\"\n",
       "  175.611,1187.01 201.736,1187.01 \n",
       "  \"/>\n",
       "<polyline clip-path=\"url(#clip6600)\" style=\"stroke:#000000; stroke-width:4; stroke-opacity:1; fill:none\" points=\"\n",
       "  175.611,969.428 201.736,969.428 \n",
       "  \"/>\n",
       "<polyline clip-path=\"url(#clip6600)\" style=\"stroke:#000000; stroke-width:4; stroke-opacity:1; fill:none\" points=\"\n",
       "  175.611,751.845 201.736,751.845 \n",
       "  \"/>\n",
       "<polyline clip-path=\"url(#clip6600)\" style=\"stroke:#000000; stroke-width:4; stroke-opacity:1; fill:none\" points=\"\n",
       "  175.611,534.263 201.736,534.263 \n",
       "  \"/>\n",
       "<polyline clip-path=\"url(#clip6600)\" style=\"stroke:#000000; stroke-width:4; stroke-opacity:1; fill:none\" points=\"\n",
       "  175.611,316.68 201.736,316.68 \n",
       "  \"/>\n",
       "<polyline clip-path=\"url(#clip6600)\" style=\"stroke:#000000; stroke-width:4; stroke-opacity:1; fill:none\" points=\"\n",
       "  175.611,99.0977 201.736,99.0977 \n",
       "  \"/>\n",
       "<g clip-path=\"url(#clip6600)\">\n",
       "<text style=\"fill:#000000; fill-opacity:1; font-family:Arial,Helvetica Neue,Helvetica,sans-serif; font-size:48px; text-anchor:middle;\" transform=\"rotate(0, 226.907, 1479.62)\" x=\"226.907\" y=\"1479.62\">0</text>\n",
       "</g>\n",
       "<g clip-path=\"url(#clip6600)\">\n",
       "<text style=\"fill:#000000; fill-opacity:1; font-family:Arial,Helvetica Neue,Helvetica,sans-serif; font-size:48px; text-anchor:middle;\" transform=\"rotate(0, 742.965, 1479.62)\" x=\"742.965\" y=\"1479.62\">50</text>\n",
       "</g>\n",
       "<g clip-path=\"url(#clip6600)\">\n",
       "<text style=\"fill:#000000; fill-opacity:1; font-family:Arial,Helvetica Neue,Helvetica,sans-serif; font-size:48px; text-anchor:middle;\" transform=\"rotate(0, 1259.02, 1479.62)\" x=\"1259.02\" y=\"1479.62\">100</text>\n",
       "</g>\n",
       "<g clip-path=\"url(#clip6600)\">\n",
       "<text style=\"fill:#000000; fill-opacity:1; font-family:Arial,Helvetica Neue,Helvetica,sans-serif; font-size:48px; text-anchor:middle;\" transform=\"rotate(0, 1775.08, 1479.62)\" x=\"1775.08\" y=\"1479.62\">150</text>\n",
       "</g>\n",
       "<g clip-path=\"url(#clip6600)\">\n",
       "<text style=\"fill:#000000; fill-opacity:1; font-family:Arial,Helvetica Neue,Helvetica,sans-serif; font-size:48px; text-anchor:middle;\" transform=\"rotate(0, 2291.14, 1479.62)\" x=\"2291.14\" y=\"1479.62\">200</text>\n",
       "</g>\n",
       "<g clip-path=\"url(#clip6600)\">\n",
       "<text style=\"fill:#000000; fill-opacity:1; font-family:Arial,Helvetica Neue,Helvetica,sans-serif; font-size:48px; text-anchor:end;\" transform=\"rotate(0, 151.611, 1422.09)\" x=\"151.611\" y=\"1422.09\">1</text>\n",
       "</g>\n",
       "<g clip-path=\"url(#clip6600)\">\n",
       "<text style=\"fill:#000000; fill-opacity:1; font-family:Arial,Helvetica Neue,Helvetica,sans-serif; font-size:48px; text-anchor:end;\" transform=\"rotate(0, 151.611, 1204.51)\" x=\"151.611\" y=\"1204.51\">2</text>\n",
       "</g>\n",
       "<g clip-path=\"url(#clip6600)\">\n",
       "<text style=\"fill:#000000; fill-opacity:1; font-family:Arial,Helvetica Neue,Helvetica,sans-serif; font-size:48px; text-anchor:end;\" transform=\"rotate(0, 151.611, 986.928)\" x=\"151.611\" y=\"986.928\">3</text>\n",
       "</g>\n",
       "<g clip-path=\"url(#clip6600)\">\n",
       "<text style=\"fill:#000000; fill-opacity:1; font-family:Arial,Helvetica Neue,Helvetica,sans-serif; font-size:48px; text-anchor:end;\" transform=\"rotate(0, 151.611, 769.345)\" x=\"151.611\" y=\"769.345\">4</text>\n",
       "</g>\n",
       "<g clip-path=\"url(#clip6600)\">\n",
       "<text style=\"fill:#000000; fill-opacity:1; font-family:Arial,Helvetica Neue,Helvetica,sans-serif; font-size:48px; text-anchor:end;\" transform=\"rotate(0, 151.611, 551.763)\" x=\"151.611\" y=\"551.763\">5</text>\n",
       "</g>\n",
       "<g clip-path=\"url(#clip6600)\">\n",
       "<text style=\"fill:#000000; fill-opacity:1; font-family:Arial,Helvetica Neue,Helvetica,sans-serif; font-size:48px; text-anchor:end;\" transform=\"rotate(0, 151.611, 334.18)\" x=\"151.611\" y=\"334.18\">6</text>\n",
       "</g>\n",
       "<g clip-path=\"url(#clip6600)\">\n",
       "<text style=\"fill:#000000; fill-opacity:1; font-family:Arial,Helvetica Neue,Helvetica,sans-serif; font-size:48px; text-anchor:end;\" transform=\"rotate(0, 151.611, 116.598)\" x=\"151.611\" y=\"116.598\">7</text>\n",
       "</g>\n",
       "<g clip-path=\"url(#clip6600)\">\n",
       "<text style=\"fill:#000000; fill-opacity:1; font-family:Arial,Helvetica Neue,Helvetica,sans-serif; font-size:66px; text-anchor:middle;\" transform=\"rotate(0, 1264.18, 1559.48)\" x=\"1264.18\" y=\"1559.48\">t</text>\n",
       "</g>\n",
       "<g clip-path=\"url(#clip6600)\">\n",
       "<text style=\"fill:#000000; fill-opacity:1; font-family:Arial,Helvetica Neue,Helvetica,sans-serif; font-size:66px; text-anchor:middle;\" transform=\"rotate(-90, 89.2861, 736.431)\" x=\"89.2861\" y=\"736.431\">y</text>\n",
       "</g>\n",
       "<polyline clip-path=\"url(#clip6602)\" style=\"stroke:#009af9; stroke-width:4; stroke-opacity:1; fill:none\" points=\"\n",
       "  237.228,839.303 247.549,870.204 257.87,913.223 268.191,815.594 278.513,1164.09 288.834,876.782 299.155,849.976 309.476,937.325 319.797,1024.41 330.118,1016.86 \n",
       "  340.439,596.327 350.761,778.849 361.082,998.007 371.403,950.172 381.724,870.362 392.045,1195.88 402.366,1048.99 412.688,993.741 423.009,1234.35 433.33,827.679 \n",
       "  443.651,1141.5 453.972,1052.54 464.293,972.534 474.615,1194.67 484.936,806.177 495.257,857.17 505.578,752.232 515.899,1208.87 526.22,908.868 536.542,688.739 \n",
       "  546.863,939.488 557.184,860.652 567.505,796.389 577.826,942.497 588.147,959.043 598.468,571.884 608.79,883.768 619.111,750.42 629.432,1007.01 639.753,969.306 \n",
       "  650.074,628.998 660.395,1130.61 670.717,761.122 681.038,1178.22 691.359,564.719 701.68,804.4 712.001,703.315 722.322,1042.39 732.644,554.421 742.965,1033.73 \n",
       "  753.286,1139.6 763.607,761.251 773.928,813.656 784.249,1169.27 794.57,610.316 804.892,1167.69 815.213,539.324 825.534,1037.28 835.855,916.039 846.176,824.542 \n",
       "  856.497,1046.45 866.819,1234.75 877.14,1250.19 887.461,849.695 897.782,772.537 908.103,1129.43 918.424,932.403 928.746,1365.66 939.067,989.719 949.388,1386.61 \n",
       "  959.709,1253.72 970.03,769.584 980.351,812.36 990.673,1372.76 1000.99,768.909 1011.31,1017.91 1021.64,1158.9 1031.96,965.043 1042.28,1338.7 1052.6,1176.77 \n",
       "  1062.92,956.936 1073.24,776.877 1083.56,792.511 1093.88,544.773 1104.21,1112.58 1114.53,1175.54 1124.85,932.547 1135.17,818.174 1145.49,1098.44 1155.81,890.804 \n",
       "  1166.13,1012.2 1176.45,924.055 1186.77,492.999 1197.1,1185.94 1207.42,597.338 1217.74,1052.23 1228.06,995.147 1238.38,1079.47 1248.7,1073.54 1259.02,972.347 \n",
       "  1269.34,877.518 1279.66,623.528 1289.99,1186.84 1300.31,955.908 1310.63,1383.96 1320.95,926.53 1331.27,978.321 1341.59,1044.97 1351.91,712.067 1362.23,910.38 \n",
       "  1372.56,1113.94 1382.88,688.371 1393.2,805.546 1403.52,852.65 1413.84,1066.31 1424.16,577.103 1434.48,915.208 1444.8,915.389 1455.12,667.861 1465.45,945.292 \n",
       "  1475.77,951.275 1486.09,1243.02 1496.41,203.562 1506.73,857.912 1517.05,1025.01 1527.37,837.746 1537.69,868.428 1548.02,804.526 1558.34,778.556 1568.66,417.732 \n",
       "  1578.98,779.422 1589.3,654.833 1599.62,652.145 1609.94,1069.09 1620.26,1102.43 1630.58,1002.7 1640.91,1119.12 1651.23,839.102 1661.55,665.004 1671.87,628.939 \n",
       "  1682.19,369.802 1692.51,1017.66 1702.83,580.882 1713.15,648.398 1723.47,875.425 1733.8,892.282 1744.12,442.36 1754.44,815.008 1764.76,588.985 1775.08,486.194 \n",
       "  1785.4,693.801 1795.72,799.618 1806.04,447.482 1816.37,685.24 1826.69,86.2547 1837.01,611.196 1847.33,606.013 1857.65,607.7 1867.97,757.573 1878.29,400.483 \n",
       "  1888.61,960.8 1898.93,545.385 1909.26,481.364 1919.58,533.647 1929.9,768.92 1940.22,671.096 1950.54,172.344 1960.86,810.443 1971.18,510.333 1981.5,767.156 \n",
       "  1991.82,517.232 2002.15,426.126 2012.47,828.827 2022.79,244.355 2033.11,669.761 2043.43,696.225 2053.75,133.779 2064.07,420.506 2074.39,371.024 2084.72,857.513 \n",
       "  2095.04,630.222 2105.36,466.041 2115.68,759.151 2126,818.32 2136.32,662.088 2146.64,644.289 2156.96,203.517 2167.28,940.751 2177.61,488.074 2187.93,615.015 \n",
       "  2198.25,253.829 2208.57,507.406 2218.89,442.147 2229.21,676.363 2239.53,843.299 2249.85,707.014 2260.18,553.976 2270.5,363.93 2280.82,488.922 2291.14,484.356 \n",
       "  \n",
       "  \"/>\n",
       "</svg>\n"
      ]
     },
     "execution_count": 6,
     "metadata": {},
     "output_type": "execute_result"
    }
   ],
   "source": [
    "plot(sqy,leg=false,xlabel=\"t\",ylabel=\"y\")"
   ]
  },
  {
   "cell_type": "code",
   "execution_count": 7,
   "metadata": {},
   "outputs": [],
   "source": [
    "X = sqy[1] - sqy[1] + 1\n",
    "sqX = [ X ]\n",
    "\n",
    "V = sqy[1] - sqy[1] + 5\n",
    "sqV = [ V ]\n",
    "\n",
    "for t in 1:T\n",
    "    X = F*X\n",
    "    V = F*V*F'+ Q\n",
    "    K = V*H'/(H*V*H'+R)\n",
    "    X = X + K*(sqy[t]-H*X)\n",
    "    V = V - K*H*V\n",
    "    \n",
    "   push!(sqX, X)\n",
    "   push!(sqV, V)\n",
    "end"
   ]
  },
  {
   "cell_type": "code",
   "execution_count": null,
   "metadata": {},
   "outputs": [],
   "source": [
    "plot([0:T],sqX,leg=false,xlabel=\"t\",ylabel=\"x\") #30\n",
    "plot!([0:T],sqX + sqV.^(1/2),linecolor=:lightgreen)\n",
    "plot!([0:T],sqX- sqV.^(1/2),linecolor=:lightgreen)\n",
    "plot!([0:T],sqx,leg=false,xlabel=\"t\",ylabel=\"x\",linecolor=:red)"
   ]
  }
 ],
 "metadata": {
  "kernelspec": {
   "display_name": "Julia 1.3.1",
   "language": "julia",
   "name": "julia-1.3"
  },
  "language_info": {
   "file_extension": ".jl",
   "mimetype": "application/julia",
   "name": "julia",
   "version": "1.3.1"
  }
 },
 "nbformat": 4,
 "nbformat_minor": 4
}
